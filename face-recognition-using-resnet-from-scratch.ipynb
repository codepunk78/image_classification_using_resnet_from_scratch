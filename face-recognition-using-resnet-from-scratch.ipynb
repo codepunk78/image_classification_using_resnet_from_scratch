{
 "cells": [
  {
   "cell_type": "code",
   "execution_count": null,
   "metadata": {
    "_cell_guid": "b1076dfc-b9ad-4769-8c92-a6c4dae69d19",
    "_uuid": "8f2839f25d086af736a60e9eeb907d3b93b6e0e5",
    "execution": {
     "iopub.execute_input": "2021-07-30T12:08:18.937994Z",
     "iopub.status.busy": "2021-07-30T12:08:18.937683Z",
     "iopub.status.idle": "2021-07-30T12:08:20.437645Z",
     "shell.execute_reply": "2021-07-30T12:08:20.436874Z",
     "shell.execute_reply.started": "2021-07-30T12:08:18.937963Z"
    }
   },
   "outputs": [],
   "source": [
    "import os\n",
    "import torch\n",
    "import torchvision\n",
    "import tarfile\n",
    "import torch.nn as nn\n",
    "import numpy as np\n",
    "import torch.nn.functional as F\n",
    "from torchvision.datasets.utils import download_url\n",
    "from torchvision.datasets import ImageFolder\n",
    "from torch.utils.data import DataLoader\n",
    "import torchvision.transforms as tt\n",
    "from torch.utils.data import random_split\n",
    "from torchvision.utils import make_grid\n",
    "import matplotlib\n",
    "import matplotlib.pyplot as plt\n",
    "%matplotlib inline"
   ]
  },
  {
   "cell_type": "code",
   "execution_count": null,
   "metadata": {
    "_cell_guid": "79c7e3d0-c299-4dcb-8224-4455121ee9b0",
    "_uuid": "d629ff2d2480ee46fbb7e2d37f6b5fab8052498a",
    "execution": {
     "iopub.execute_input": "2021-07-30T12:08:58.559514Z",
     "iopub.status.busy": "2021-07-30T12:08:58.559118Z",
     "iopub.status.idle": "2021-07-30T12:08:58.608106Z",
     "shell.execute_reply": "2021-07-30T12:08:58.607173Z",
     "shell.execute_reply.started": "2021-07-30T12:08:58.559476Z"
    }
   },
   "outputs": [],
   "source": [
    "data_dir='../input/dataset/trainset'\n",
    "classes=os.listdir(data_dir)\n",
    "n_class=len(classes)\n",
    "print(n_class)\n",
    "print(classes)"
   ]
  },
  {
   "cell_type": "code",
   "execution_count": null,
   "metadata": {
    "execution": {
     "iopub.execute_input": "2021-07-30T12:10:04.499414Z",
     "iopub.status.busy": "2021-07-30T12:10:04.499029Z",
     "iopub.status.idle": "2021-07-30T12:10:04.504699Z",
     "shell.execute_reply": "2021-07-30T12:10:04.503608Z",
     "shell.execute_reply.started": "2021-07-30T12:10:04.499374Z"
    }
   },
   "outputs": [],
   "source": [
    "import torchvision.transforms as tt\n",
    "general_tfms=tt.Compose([\n",
    "        tt.Resize((32,32)),\n",
    "        tt.ToTensor()\n",
    "    ])"
   ]
  },
  {
   "cell_type": "code",
   "execution_count": null,
   "metadata": {
    "execution": {
     "iopub.execute_input": "2021-07-30T12:10:08.341038Z",
     "iopub.status.busy": "2021-07-30T12:10:08.340673Z",
     "iopub.status.idle": "2021-07-30T12:10:15.803258Z",
     "shell.execute_reply": "2021-07-30T12:10:15.80247Z",
     "shell.execute_reply.started": "2021-07-30T12:10:08.341005Z"
    }
   },
   "outputs": [],
   "source": [
    "ds=ImageFolder(data_dir,transform=general_tfms)"
   ]
  },
  {
   "cell_type": "code",
   "execution_count": null,
   "metadata": {
    "execution": {
     "iopub.execute_input": "2021-07-30T12:11:51.272711Z",
     "iopub.status.busy": "2021-07-30T12:11:51.272363Z",
     "iopub.status.idle": "2021-07-30T12:11:51.280286Z",
     "shell.execute_reply": "2021-07-30T12:11:51.27928Z",
     "shell.execute_reply.started": "2021-07-30T12:11:51.272676Z"
    }
   },
   "outputs": [],
   "source": [
    "len(ds)"
   ]
  },
  {
   "cell_type": "code",
   "execution_count": null,
   "metadata": {
    "execution": {
     "iopub.execute_input": "2021-07-30T12:38:43.931302Z",
     "iopub.status.busy": "2021-07-30T12:38:43.93091Z",
     "iopub.status.idle": "2021-07-30T12:38:43.93658Z",
     "shell.execute_reply": "2021-07-30T12:38:43.935097Z",
     "shell.execute_reply.started": "2021-07-30T12:38:43.931268Z"
    }
   },
   "outputs": [],
   "source": [
    "batch_size=32\n",
    "num_workers=4\n",
    "image_size=32"
   ]
  },
  {
   "cell_type": "code",
   "execution_count": null,
   "metadata": {
    "execution": {
     "iopub.execute_input": "2021-07-30T12:24:02.125653Z",
     "iopub.status.busy": "2021-07-30T12:24:02.125297Z",
     "iopub.status.idle": "2021-07-30T12:24:02.131884Z",
     "shell.execute_reply": "2021-07-30T12:24:02.131146Z",
     "shell.execute_reply.started": "2021-07-30T12:24:02.125623Z"
    }
   },
   "outputs": [],
   "source": [
    "from random import randint"
   ]
  },
  {
   "cell_type": "code",
   "execution_count": null,
   "metadata": {
    "execution": {
     "iopub.execute_input": "2021-07-30T12:38:47.791254Z",
     "iopub.status.busy": "2021-07-30T12:38:47.790933Z",
     "iopub.status.idle": "2021-07-30T12:39:19.273274Z",
     "shell.execute_reply": "2021-07-30T12:39:19.272393Z",
     "shell.execute_reply.started": "2021-07-30T12:38:47.791224Z"
    }
   },
   "outputs": [],
   "source": [
    "'''loader = DataLoader(\n",
    "    ds,\n",
    "    batch_size=32,\n",
    "   # num_workers=4,\n",
    "    shuffle=False\n",
    ")'''\n",
    "image_loader = DataLoader(ds, \n",
    "                          batch_size  = batch_size, \n",
    "                          shuffle     = False, \n",
    "                          num_workers = num_workers,\n",
    "                          pin_memory  = True)\n",
    "psum    = torch.tensor([0.0, 0.0, 0.0])\n",
    "psum_sq = torch.tensor([0.0, 0.0, 0.0])\n",
    "# loop through images\n",
    "for inputs,_ in image_loader:\n",
    "    #print(inputs.shape)\n",
    "    #inputs=np.ndarray(inputs)\n",
    "    psum    += inputs.sum(axis = [0, 2, 3])\n",
    "    psum_sq += (inputs ** 2).sum(axis = [0, 2, 3])\n",
    "\n",
    "count = len(ds) * image_size * image_size\n",
    "\n",
    "# mean and std\n",
    "total_mean = psum / count\n",
    "total_var  = (psum_sq / count) - (total_mean ** 2)\n",
    "total_std  = torch.sqrt(total_var)\n",
    "\n"
   ]
  },
  {
   "cell_type": "code",
   "execution_count": null,
   "metadata": {
    "execution": {
     "iopub.execute_input": "2021-07-30T12:40:29.2585Z",
     "iopub.status.busy": "2021-07-30T12:40:29.258113Z",
     "iopub.status.idle": "2021-07-30T12:40:29.265156Z",
     "shell.execute_reply": "2021-07-30T12:40:29.263803Z",
     "shell.execute_reply.started": "2021-07-30T12:40:29.258463Z"
    }
   },
   "outputs": [],
   "source": [
    "stats=(total_mean,total_std)\n",
    "train_tfms=tt.Compose([#tt.RandomVerticalFlip(),\n",
    "                       #tt.RandomRotation,\n",
    "                       tt.Resize((32,32)),\n",
    "                       #tt.RandomCrop(64,padding=4,padding_mode='reflect'),\n",
    "                       tt.RandomHorizontalFlip(),\n",
    "                       tt.ToTensor(),\n",
    "                       tt.Normalize(*stats)\n",
    "                      ])\n",
    "valid_tfms=tt.Compose([tt.ToTensor(),\n",
    "                       tt.Normalize(*stats)\n",
    "                      ])"
   ]
  },
  {
   "cell_type": "code",
   "execution_count": null,
   "metadata": {
    "execution": {
     "iopub.execute_input": "2021-07-30T12:40:37.784122Z",
     "iopub.status.busy": "2021-07-30T12:40:37.783791Z",
     "iopub.status.idle": "2021-07-30T12:40:38.960463Z",
     "shell.execute_reply": "2021-07-30T12:40:38.959517Z",
     "shell.execute_reply.started": "2021-07-30T12:40:37.784088Z"
    }
   },
   "outputs": [],
   "source": [
    "dataset = ImageFolder(data_dir, transform=train_tfms)"
   ]
  },
  {
   "cell_type": "code",
   "execution_count": null,
   "metadata": {
    "execution": {
     "iopub.execute_input": "2021-07-30T12:40:43.622189Z",
     "iopub.status.busy": "2021-07-30T12:40:43.621769Z",
     "iopub.status.idle": "2021-07-30T12:40:43.62945Z",
     "shell.execute_reply": "2021-07-30T12:40:43.628251Z",
     "shell.execute_reply.started": "2021-07-30T12:40:43.622148Z"
    }
   },
   "outputs": [],
   "source": [
    "random_seed = 42\n",
    "torch.manual_seed(random_seed)\n",
    "#batch_size=256"
   ]
  },
  {
   "cell_type": "code",
   "execution_count": null,
   "metadata": {
    "execution": {
     "iopub.execute_input": "2021-07-30T12:40:51.037604Z",
     "iopub.status.busy": "2021-07-30T12:40:51.037239Z",
     "iopub.status.idle": "2021-07-30T12:40:51.048657Z",
     "shell.execute_reply": "2021-07-30T12:40:51.047667Z",
     "shell.execute_reply.started": "2021-07-30T12:40:51.037563Z"
    }
   },
   "outputs": [],
   "source": [
    "val_size=(899-64)#int(0.2*len(dataset))\n",
    "train_size = len(dataset) - val_size\n",
    "train_ds, val_ds = random_split(dataset, [train_size, val_size])\n",
    "len(train_ds), len(val_ds)"
   ]
  },
  {
   "cell_type": "code",
   "execution_count": null,
   "metadata": {
    "execution": {
     "iopub.execute_input": "2021-07-30T12:41:00.991192Z",
     "iopub.status.busy": "2021-07-30T12:41:00.99087Z",
     "iopub.status.idle": "2021-07-30T12:41:00.995665Z",
     "shell.execute_reply": "2021-07-30T12:41:00.994828Z",
     "shell.execute_reply.started": "2021-07-30T12:41:00.99116Z"
    }
   },
   "outputs": [],
   "source": [
    "train_dl=DataLoader(train_ds,batch_size,shuffle=True,pin_memory=True)\n",
    "valid_dl=DataLoader(val_ds,batch_size,shuffle=False,pin_memory=True)"
   ]
  },
  {
   "cell_type": "code",
   "execution_count": null,
   "metadata": {
    "execution": {
     "iopub.execute_input": "2021-07-30T12:41:05.51146Z",
     "iopub.status.busy": "2021-07-30T12:41:05.511096Z",
     "iopub.status.idle": "2021-07-30T12:41:05.523129Z",
     "shell.execute_reply": "2021-07-30T12:41:05.522113Z",
     "shell.execute_reply.started": "2021-07-30T12:41:05.511426Z"
    }
   },
   "outputs": [],
   "source": [
    "def denormalize(images, means, stds):\n",
    "    means = torch.tensor(means).reshape(1, 3, 1, 1)\n",
    "    stds = torch.tensor(stds).reshape(1, 3, 1, 1)\n",
    "    return images * stds + means\n",
    "\n",
    "def show_batch(dl):\n",
    "    for images, labels in dl:\n",
    "        fig, ax = plt.subplots(figsize=(12, 12))\n",
    "        ax.set_xticks([]); ax.set_yticks([])\n",
    "        denorm_images = denormalize(images, *stats)\n",
    "        ax.imshow(make_grid(denorm_images[:64], nrow=8).permute(1, 2, 0).clamp(0,1))\n",
    "        break"
   ]
  },
  {
   "cell_type": "code",
   "execution_count": null,
   "metadata": {
    "execution": {
     "iopub.execute_input": "2021-07-30T12:41:14.602133Z",
     "iopub.status.busy": "2021-07-30T12:41:14.601811Z",
     "iopub.status.idle": "2021-07-30T12:41:15.077975Z",
     "shell.execute_reply": "2021-07-30T12:41:15.077108Z",
     "shell.execute_reply.started": "2021-07-30T12:41:14.602102Z"
    }
   },
   "outputs": [],
   "source": [
    "show_batch(train_dl)"
   ]
  },
  {
   "cell_type": "code",
   "execution_count": null,
   "metadata": {
    "execution": {
     "iopub.execute_input": "2021-07-30T12:41:58.760624Z",
     "iopub.status.busy": "2021-07-30T12:41:58.760097Z",
     "iopub.status.idle": "2021-07-30T12:41:58.770557Z",
     "shell.execute_reply": "2021-07-30T12:41:58.769467Z",
     "shell.execute_reply.started": "2021-07-30T12:41:58.760586Z"
    }
   },
   "outputs": [],
   "source": [
    "def get_default_device():\n",
    "    \"\"\"Pick GPU if available, else CPU\"\"\"\n",
    "    if torch.cuda.is_available():\n",
    "        return torch.device('cuda')\n",
    "    else:\n",
    "        return torch.device('cpu')\n",
    "    \n",
    "def to_device(data, device):\n",
    "    \"\"\"Move tensor(s) to chosen device\"\"\"\n",
    "    if isinstance(data, (list,tuple)):\n",
    "        return [to_device(x, device) for x in data]\n",
    "    return data.to(device, non_blocking=True)\n",
    "\n",
    "class DeviceDataLoader():\n",
    "    \"\"\"Wrap a dataloader to move data to a device\"\"\"\n",
    "    def __init__(self, dl, device):\n",
    "        self.dl = dl\n",
    "        self.device = device\n",
    "        \n",
    "    def __iter__(self):\n",
    "        \"\"\"Yield a batch of data after moving it to device\"\"\"\n",
    "        for b in self.dl: \n",
    "            yield to_device(b, self.device)\n",
    "\n",
    "    def __len__(self):\n",
    "        \"\"\"Number of batches\"\"\"\n",
    "        return len(self.dl)"
   ]
  },
  {
   "cell_type": "code",
   "execution_count": null,
   "metadata": {
    "execution": {
     "iopub.execute_input": "2021-07-30T12:42:12.610885Z",
     "iopub.status.busy": "2021-07-30T12:42:12.610566Z",
     "iopub.status.idle": "2021-07-30T12:42:12.618554Z",
     "shell.execute_reply": "2021-07-30T12:42:12.617401Z",
     "shell.execute_reply.started": "2021-07-30T12:42:12.610854Z"
    }
   },
   "outputs": [],
   "source": [
    "device = get_default_device()\n",
    "device"
   ]
  },
  {
   "cell_type": "code",
   "execution_count": null,
   "metadata": {
    "execution": {
     "iopub.execute_input": "2021-07-30T12:42:17.348328Z",
     "iopub.status.busy": "2021-07-30T12:42:17.347963Z",
     "iopub.status.idle": "2021-07-30T12:42:17.353834Z",
     "shell.execute_reply": "2021-07-30T12:42:17.352831Z",
     "shell.execute_reply.started": "2021-07-30T12:42:17.34828Z"
    }
   },
   "outputs": [],
   "source": [
    "train_dl = DeviceDataLoader(train_dl, device)\n",
    "valid_dl = DeviceDataLoader(valid_dl, device)"
   ]
  },
  {
   "cell_type": "code",
   "execution_count": null,
   "metadata": {
    "execution": {
     "iopub.execute_input": "2021-07-30T12:42:21.649386Z",
     "iopub.status.busy": "2021-07-30T12:42:21.648873Z",
     "iopub.status.idle": "2021-07-30T12:42:21.663482Z",
     "shell.execute_reply": "2021-07-30T12:42:21.661531Z",
     "shell.execute_reply.started": "2021-07-30T12:42:21.649338Z"
    }
   },
   "outputs": [],
   "source": [
    "class SimpleResidualBlock(nn.Module):\n",
    "    def __init__(self):\n",
    "        super().__init__()\n",
    "        self.conv1 = nn.Conv2d(in_channels=3, out_channels=3, kernel_size=3, stride=1, padding=1)\n",
    "        self.relu1 = nn.ReLU()\n",
    "        self.conv2 = nn.Conv2d(in_channels=3, out_channels=3, kernel_size=3, stride=1, padding=1)\n",
    "        self.relu2 = nn.ReLU()\n",
    "        \n",
    "    def forward(self, x):\n",
    "        out = self.conv1(x)\n",
    "        out = self.relu1(out)\n",
    "        out = self.conv2(out)\n",
    "        return self.relu2(out) + x "
   ]
  },
  {
   "cell_type": "code",
   "execution_count": null,
   "metadata": {
    "execution": {
     "iopub.execute_input": "2021-07-30T12:42:26.131446Z",
     "iopub.status.busy": "2021-07-30T12:42:26.131091Z",
     "iopub.status.idle": "2021-07-30T12:42:27.045454Z",
     "shell.execute_reply": "2021-07-30T12:42:27.04438Z",
     "shell.execute_reply.started": "2021-07-30T12:42:26.13141Z"
    }
   },
   "outputs": [],
   "source": [
    "simple_resnet = to_device(SimpleResidualBlock(), device)\n",
    "\n",
    "for images, labels in train_dl:\n",
    "    out = simple_resnet(images)\n",
    "    print(out.shape)\n",
    "    break\n",
    "    \n",
    "del simple_resnet, images, labels\n",
    "torch.cuda.empty_cache()"
   ]
  },
  {
   "cell_type": "code",
   "execution_count": null,
   "metadata": {
    "execution": {
     "iopub.execute_input": "2021-07-30T12:42:32.813015Z",
     "iopub.status.busy": "2021-07-30T12:42:32.81267Z",
     "iopub.status.idle": "2021-07-30T12:42:32.828676Z",
     "shell.execute_reply": "2021-07-30T12:42:32.827464Z",
     "shell.execute_reply.started": "2021-07-30T12:42:32.812981Z"
    }
   },
   "outputs": [],
   "source": [
    "def accuracy(outputs, labels):\n",
    "    _, preds = torch.max(outputs, dim=1)\n",
    "    return torch.tensor(torch.sum(preds == labels).item() / len(preds))\n",
    "\n",
    "class ImageClassificationBase(nn.Module):\n",
    "    def training_step(self, batch):\n",
    "        images, labels = batch \n",
    "        out = self(images)                  # Generate predictions\n",
    "        loss = F.cross_entropy(out, labels) # Calculate loss\n",
    "        return loss\n",
    "    \n",
    "    def validation_step(self, batch):\n",
    "        images, labels = batch \n",
    "        out = self(images)                    # Generate predictions\n",
    "        loss = F.cross_entropy(out, labels)   # Calculate loss\n",
    "        acc = accuracy(out, labels)           # Calculate accuracy\n",
    "        return {'val_loss': loss.detach(), 'val_acc': acc}\n",
    "        \n",
    "    def validation_epoch_end(self, outputs):\n",
    "        batch_losses = [x['val_loss'] for x in outputs]\n",
    "        epoch_loss = torch.stack(batch_losses).mean()   # Combine losses\n",
    "        batch_accs = [x['val_acc'] for x in outputs]\n",
    "        epoch_acc = torch.stack(batch_accs).mean()      # Combine accuracies\n",
    "        return {'val_loss': epoch_loss.item(), 'val_acc': epoch_acc.item()}\n",
    "    \n",
    "    def epoch_end(self, epoch, result):\n",
    "        print(\"Epoch [{}], last_lr: {:.5f}, train_loss: {:.4f}, val_loss: {:.4f}, val_acc: {:.4f}\".format(\n",
    "            epoch, result['lrs'][-1], result['train_loss'], result['val_loss'], result['val_acc']))"
   ]
  },
  {
   "cell_type": "code",
   "execution_count": null,
   "metadata": {
    "execution": {
     "iopub.execute_input": "2021-07-30T12:42:41.000277Z",
     "iopub.status.busy": "2021-07-30T12:42:40.999943Z",
     "iopub.status.idle": "2021-07-30T12:42:41.013459Z",
     "shell.execute_reply": "2021-07-30T12:42:41.012347Z",
     "shell.execute_reply.started": "2021-07-30T12:42:41.000245Z"
    }
   },
   "outputs": [],
   "source": [
    "def conv_block(in_channels, out_channels, pool=False):\n",
    "    layers = [nn.Conv2d(in_channels, out_channels, kernel_size=3, padding=1), \n",
    "              nn.BatchNorm2d(out_channels), \n",
    "              nn.ReLU(inplace=True)]\n",
    "    if pool: layers.append(nn.MaxPool2d(2))\n",
    "    return nn.Sequential(*layers)\n",
    "\n",
    "class ResNet(ImageClassificationBase):\n",
    "    def __init__(self, in_channels, num_classes):\n",
    "        super().__init__()\n",
    "        \n",
    "        self.conv1 = conv_block(in_channels, 64)\n",
    "        self.conv2 = conv_block(64, 128, pool=True)\n",
    "        self.res1 = nn.Sequential(conv_block(128, 128), conv_block(128, 128))\n",
    "        \n",
    "        self.conv3 = conv_block(128, 256, pool=True)\n",
    "        self.conv4 = conv_block(256, 512, pool=True)\n",
    "        self.res2 = nn.Sequential(conv_block(512, 512), conv_block(512, 512))\n",
    "        \n",
    "        self.classifier = nn.Sequential(nn.MaxPool2d(4), \n",
    "                                        nn.Flatten(), \n",
    "                                        nn.Dropout(0.2),\n",
    "                                        nn.Linear(512, num_classes))\n",
    "        \n",
    "    def forward(self, xb):\n",
    "        out = self.conv1(xb)\n",
    "        out = self.conv2(out)\n",
    "        out = self.res1(out) + out\n",
    "        out = self.conv3(out)\n",
    "        out = self.conv4(out)\n",
    "        out = self.res2(out) + out\n",
    "        out = self.classifier(out)\n",
    "        return out"
   ]
  },
  {
   "cell_type": "code",
   "execution_count": null,
   "metadata": {
    "execution": {
     "iopub.execute_input": "2021-07-30T12:42:46.22414Z",
     "iopub.status.busy": "2021-07-30T12:42:46.223816Z",
     "iopub.status.idle": "2021-07-30T12:42:46.293895Z",
     "shell.execute_reply": "2021-07-30T12:42:46.292791Z",
     "shell.execute_reply.started": "2021-07-30T12:42:46.224109Z"
    }
   },
   "outputs": [],
   "source": [
    "model = to_device(ResNet(3, n_class), device)\n",
    "model"
   ]
  },
  {
   "cell_type": "code",
   "execution_count": null,
   "metadata": {
    "execution": {
     "iopub.execute_input": "2021-07-30T12:48:08.53361Z",
     "iopub.status.busy": "2021-07-30T12:48:08.533149Z",
     "iopub.status.idle": "2021-07-30T12:48:08.548483Z",
     "shell.execute_reply": "2021-07-30T12:48:08.547449Z",
     "shell.execute_reply.started": "2021-07-30T12:48:08.533541Z"
    }
   },
   "outputs": [],
   "source": [
    "@torch.no_grad()\n",
    "def evaluate(model, val_loader):\n",
    "    model.eval()\n",
    "    outputs = [model.validation_step(batch) for batch in val_loader]\n",
    "    return model.validation_epoch_end(outputs)\n",
    "\n",
    "def get_lr(optimizer):\n",
    "    for param_group in optimizer.param_groups:\n",
    "        return param_group['lr']\n",
    "\n",
    "def fit_one_cycle(epochs, max_lr, model, train_loader, val_loader, \n",
    "                  weight_decay=0, grad_clip=None, opt_func=torch.optim.SGD):\n",
    "    torch.cuda.empty_cache()\n",
    "    history = []\n",
    "    \n",
    "    # Set up cutom optimizer with weight decay\n",
    "    optimizer = opt_func(model.parameters(), max_lr, weight_decay=weight_decay)\n",
    "    # Set up one-cycle learning rate scheduler\n",
    "    sched = torch.optim.lr_scheduler.OneCycleLR(optimizer, max_lr, epochs=epochs, \n",
    "                                                steps_per_epoch=len(train_loader))\n",
    "    \n",
    "    for epoch in range(epochs):\n",
    "        # Training Phase \n",
    "        model.train()\n",
    "        train_losses = []\n",
    "        lrs = []\n",
    "        lrs.append(max_lr)\n",
    "        for batch in train_loader:\n",
    "            loss = model.training_step(batch)\n",
    "            train_losses.append(loss)\n",
    "            loss.backward()\n",
    "            \n",
    "            # Gradient clipping\n",
    "            if grad_clip: \n",
    "                nn.utils.clip_grad_value_(model.parameters(), grad_clip)\n",
    "            \n",
    "            optimizer.step()\n",
    "            optimizer.zero_grad()\n",
    "            \n",
    "            # Record & update learning rate\n",
    "            lrs.append(get_lr(optimizer))\n",
    "            sched.step()\n",
    "        \n",
    "        # Validation phase\n",
    "        result = evaluate(model, val_loader)\n",
    "        result['train_loss'] = torch.stack(train_losses).mean().item()\n",
    "        result['lrs'] = lrs\n",
    "        model.epoch_end(epoch, result)\n",
    "        history.append(result)\n",
    "    return history"
   ]
  },
  {
   "cell_type": "code",
   "execution_count": null,
   "metadata": {
    "execution": {
     "iopub.execute_input": "2021-07-30T12:48:20.975788Z",
     "iopub.status.busy": "2021-07-30T12:48:20.975427Z",
     "iopub.status.idle": "2021-07-30T12:48:29.470117Z",
     "shell.execute_reply": "2021-07-30T12:48:29.469219Z",
     "shell.execute_reply.started": "2021-07-30T12:48:20.975754Z"
    }
   },
   "outputs": [],
   "source": [
    "history = [evaluate(model, valid_dl)]\n",
    "history"
   ]
  },
  {
   "cell_type": "code",
   "execution_count": null,
   "metadata": {
    "execution": {
     "iopub.execute_input": "2021-07-30T12:57:37.398087Z",
     "iopub.status.busy": "2021-07-30T12:57:37.397712Z",
     "iopub.status.idle": "2021-07-30T12:57:37.40373Z",
     "shell.execute_reply": "2021-07-30T12:57:37.402485Z",
     "shell.execute_reply.started": "2021-07-30T12:57:37.398053Z"
    }
   },
   "outputs": [],
   "source": [
    "epochs = 20\n",
    "max_lr = 0.01\n",
    "grad_clip = 0.1\n",
    "weight_decay = 1e-4\n",
    "opt_func = torch.optim.Adam"
   ]
  },
  {
   "cell_type": "code",
   "execution_count": null,
   "metadata": {
    "execution": {
     "iopub.execute_input": "2021-07-30T12:57:40.35053Z",
     "iopub.status.busy": "2021-07-30T12:57:40.350145Z",
     "iopub.status.idle": "2021-07-30T13:11:32.518614Z",
     "shell.execute_reply": "2021-07-30T13:11:32.516361Z",
     "shell.execute_reply.started": "2021-07-30T12:57:40.350494Z"
    }
   },
   "outputs": [],
   "source": [
    "%%time\n",
    "history += fit_one_cycle(epochs, max_lr, model, train_dl, valid_dl, \n",
    "                             grad_clip=grad_clip, \n",
    "                             weight_decay=weight_decay, \n",
    "                             opt_func=opt_func)"
   ]
  },
  {
   "cell_type": "code",
   "execution_count": null,
   "metadata": {},
   "outputs": [],
   "source": [
    "def plot_accuracies(history):\n",
    "    accuracies = [x['val_acc'] for x in history]\n",
    "    plt.plot(accuracies, '-x')\n",
    "    plt.xlabel('epoch')\n",
    "    plt.ylabel('accuracy')\n",
    "    plt.title('Accuracy vs. No. of epochs');"
   ]
  },
  {
   "cell_type": "code",
   "execution_count": null,
   "metadata": {},
   "outputs": [],
   "source": [
    "plot_accuracies(history)"
   ]
  },
  {
   "cell_type": "code",
   "execution_count": null,
   "metadata": {},
   "outputs": [],
   "source": [
    "def plot_losses(history):\n",
    "    train_losses = [x.get('train_loss') for x in history]\n",
    "    val_losses = [x['val_loss'] for x in history]\n",
    "    plt.plot(train_losses, '-bx')\n",
    "    plt.plot(val_losses, '-rx')\n",
    "    plt.xlabel('epoch')\n",
    "    plt.ylabel('loss')\n",
    "    plt.legend(['Training', 'Validation'])\n",
    "    plt.title('Loss vs. No. of epochs');"
   ]
  },
  {
   "cell_type": "code",
   "execution_count": null,
   "metadata": {},
   "outputs": [],
   "source": [
    "plot_losses(history)"
   ]
  },
  {
   "cell_type": "code",
   "execution_count": null,
   "metadata": {},
   "outputs": [],
   "source": [
    "def plot_lrs(history):\n",
    "    lrs = np.concatenate([x.get('lrs', []) for x in history])\n",
    "    plt.plot(lrs)\n",
    "    plt.xlabel('Batch no.')\n",
    "    plt.ylabel('Learning rate')\n",
    "    plt.title('Learning Rate vs. Batch no.');"
   ]
  },
  {
   "cell_type": "code",
   "execution_count": null,
   "metadata": {},
   "outputs": [],
   "source": [
    "plot_lrs(history)"
   ]
  },
  {
   "cell_type": "code",
   "execution_count": null,
   "metadata": {},
   "outputs": [],
   "source": [
    "def predict_image(img, model):\n",
    "    # Convert to a batch of 1\n",
    "    xb = to_device(img.unsqueeze(0), device)\n",
    "    # Get predictions from model\n",
    "    yb = model(xb)\n",
    "    # Pick index with highest probability\n",
    "    _, preds  = torch.max(yb, dim=1)\n",
    "    # Retrieve the class label\n",
    "    return train_ds.classes[preds[0].item()]"
   ]
  },
  {
   "cell_type": "code",
   "execution_count": null,
   "metadata": {},
   "outputs": [],
   "source": [
    "img, label = valid_ds[0]\n",
    "plt.imshow(img.permute(1, 2, 0).clamp(0, 1))\n",
    "print('Label:', train_ds.classes[label], ', Predicted:', predict_image(img, model))"
   ]
  },
  {
   "cell_type": "code",
   "execution_count": null,
   "metadata": {},
   "outputs": [],
   "source": [
    "img, label = valid_ds[1002]\n",
    "plt.imshow(img.permute(1, 2, 0))\n",
    "print('Label:', valid_ds.classes[label], ', Predicted:', predict_image(img, model))"
   ]
  },
  {
   "cell_type": "code",
   "execution_count": null,
   "metadata": {},
   "outputs": [],
   "source": [
    "img, label = valid_ds[6153]\n",
    "plt.imshow(img.permute(1, 2, 0))\n",
    "print('Label:', train_ds.classes[label], ', Predicted:', predict_image(img, model))"
   ]
  }
 ],
 "metadata": {
  "kernelspec": {
   "display_name": "Python 3",
   "language": "python",
   "name": "python3"
  },
  "language_info": {
   "codemirror_mode": {
    "name": "ipython",
    "version": 3
   },
   "file_extension": ".py",
   "mimetype": "text/x-python",
   "name": "python",
   "nbconvert_exporter": "python",
   "pygments_lexer": "ipython3",
   "version": "3.7.9"
  }
 },
 "nbformat": 4,
 "nbformat_minor": 4
}
